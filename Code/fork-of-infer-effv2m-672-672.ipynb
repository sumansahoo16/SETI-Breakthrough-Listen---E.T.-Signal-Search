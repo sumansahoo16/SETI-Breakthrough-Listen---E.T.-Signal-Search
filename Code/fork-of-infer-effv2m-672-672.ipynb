{
 "cells": [
  {
   "cell_type": "code",
   "execution_count": 1,
   "id": "d002a169",
   "metadata": {
    "execution": {
     "iopub.execute_input": "2021-08-18T14:42:28.513737Z",
     "iopub.status.busy": "2021-08-18T14:42:28.513112Z",
     "iopub.status.idle": "2021-08-18T14:42:50.216442Z",
     "shell.execute_reply": "2021-08-18T14:42:50.216993Z"
    },
    "papermill": {
     "duration": 21.731374,
     "end_time": "2021-08-18T14:42:50.217297",
     "exception": false,
     "start_time": "2021-08-18T14:42:28.485923",
     "status": "completed"
    },
    "tags": []
   },
   "outputs": [
    {
     "name": "stdout",
     "output_type": "stream",
     "text": [
      "\u001b[33mWARNING: Running pip as root will break packages and permissions. You should install packages reliably by using venv: https://pip.pypa.io/warnings/venv\u001b[0m\r\n"
     ]
    }
   ],
   "source": [
    "!pip install -q gdown"
   ]
  },
  {
   "cell_type": "code",
   "execution_count": 2,
   "id": "bc3efdf7",
   "metadata": {
    "execution": {
     "iopub.execute_input": "2021-08-18T14:42:50.256569Z",
     "iopub.status.busy": "2021-08-18T14:42:50.255521Z",
     "iopub.status.idle": "2021-08-18T14:42:50.258796Z",
     "shell.execute_reply": "2021-08-18T14:42:50.258224Z"
    },
    "papermill": {
     "duration": 0.024346,
     "end_time": "2021-08-18T14:42:50.258935",
     "exception": false,
     "start_time": "2021-08-18T14:42:50.234589",
     "status": "completed"
    },
    "tags": []
   },
   "outputs": [],
   "source": [
    "#drive_paths = ['https://drive.google.com/file/d/1naOatlOMvDhFhEXEcA_Q9yNey6pSgxeA/view?usp=sharing',\n",
    "#               'https://drive.google.com/file/d/1NvF6nqXnLsTmAzshnU2rO8WnMb6RuF8y/view?usp=sharing',\n",
    "#               'https://drive.google.com/file/d/1et2sdK2Isd6YG3x-A9I9ls_JO2RY6hRt/view?usp=sharing',\n",
    "#               'https://drive.google.com/file/d/1qNFtljOBWefyIDIozvaD4T24TDiPsOmG/view?usp=sharing',\n",
    "#               'https://drive.google.com/file/d/182FFFY0vj4c7QUSE4syY5nCg5EOZ63AL/view?usp=sharing']\n",
    "\n",
    "\n",
    "#FINE \n",
    "\n",
    "\n",
    "drive_paths = ['https://drive.google.com/file/d/1G6o7NGiQq9HJbupCbWfk9feeI3Mn8kSC/view?usp=sharing',\n",
    "               'https://drive.google.com/file/d/1evSe5N_1I60llmQ1BDYxr6LeTohataYo/view?usp=sharing',\n",
    "               'https://drive.google.com/file/d/19gPPwAe94Wa38zWq1bIELQIYS2Y8Dsyx/view?usp=sharing',\n",
    "               'https://drive.google.com/file/d/1EHDHSStMUQW49RRcB4n4R0DSuLXtxhyO/view?usp=sharing',\n",
    "               'https://drive.google.com/file/d/11pPTW3YsVyazLi7s7SVvkvxI1WXEkHO6/view?usp=sharing']"
   ]
  },
  {
   "cell_type": "code",
   "execution_count": 3,
   "id": "d3036621",
   "metadata": {
    "execution": {
     "iopub.execute_input": "2021-08-18T14:42:50.293984Z",
     "iopub.status.busy": "2021-08-18T14:42:50.293323Z",
     "iopub.status.idle": "2021-08-18T14:43:01.406877Z",
     "shell.execute_reply": "2021-08-18T14:43:01.406316Z"
    },
    "papermill": {
     "duration": 11.132127,
     "end_time": "2021-08-18T14:43:01.407042",
     "exception": false,
     "start_time": "2021-08-18T14:42:50.274915",
     "status": "completed"
    },
    "tags": []
   },
   "outputs": [
    {
     "name": "stderr",
     "output_type": "stream",
     "text": [
      "Downloading...\n",
      "From: https://drive.google.com/uc?id=1G6o7NGiQq9HJbupCbWfk9feeI3Mn8kSC\n",
      "To: /kaggle/working/fold-0.h5\n",
      "213MB [00:00, 300MB/s]\n",
      "Downloading...\n",
      "From: https://drive.google.com/uc?id=1evSe5N_1I60llmQ1BDYxr6LeTohataYo\n",
      "To: /kaggle/working/fold-1.h5\n",
      "213MB [00:00, 290MB/s]\n",
      "Downloading...\n",
      "From: https://drive.google.com/uc?id=19gPPwAe94Wa38zWq1bIELQIYS2Y8Dsyx\n",
      "To: /kaggle/working/fold-2.h5\n",
      "213MB [00:00, 267MB/s]\n",
      "Downloading...\n",
      "From: https://drive.google.com/uc?id=1EHDHSStMUQW49RRcB4n4R0DSuLXtxhyO\n",
      "To: /kaggle/working/fold-3.h5\n",
      "213MB [00:00, 332MB/s]\n",
      "Downloading...\n",
      "From: https://drive.google.com/uc?id=11pPTW3YsVyazLi7s7SVvkvxI1WXEkHO6\n",
      "To: /kaggle/working/fold-4.h5\n",
      "213MB [00:00, 249MB/s]\n"
     ]
    }
   ],
   "source": [
    "import gdown\n",
    "\n",
    "\n",
    "for i, path in enumerate(drive_paths):\n",
    "    path = path.split('/')[-2]\n",
    "    gdown.download(f'https://drive.google.com/uc?id={path}', f'fold-{i}.h5', quiet=False)"
   ]
  },
  {
   "cell_type": "code",
   "execution_count": 4,
   "id": "d57f2d72",
   "metadata": {
    "_cell_guid": "b1076dfc-b9ad-4769-8c92-a6c4dae69d19",
    "_uuid": "8f2839f25d086af736a60e9eeb907d3b93b6e0e5",
    "execution": {
     "iopub.execute_input": "2021-08-18T14:43:01.480245Z",
     "iopub.status.busy": "2021-08-18T14:43:01.479501Z",
     "iopub.status.idle": "2021-08-18T14:43:18.808813Z",
     "shell.execute_reply": "2021-08-18T14:43:18.808268Z",
     "shell.execute_reply.started": "2021-07-27T16:30:30.155968Z"
    },
    "papermill": {
     "duration": 17.370746,
     "end_time": "2021-08-18T14:43:18.808990",
     "exception": false,
     "start_time": "2021-08-18T14:43:01.438244",
     "status": "completed"
    },
    "tags": []
   },
   "outputs": [
    {
     "name": "stdout",
     "output_type": "stream",
     "text": [
      "\u001b[33mWARNING: Running pip as root will break packages and permissions. You should install packages reliably by using venv: https://pip.pypa.io/warnings/venv\u001b[0m\r\n"
     ]
    }
   ],
   "source": [
    "!pip install -q efficientnet >> /dev/null\n",
    "\n",
    "import random, os\n",
    "import pandas as pd, numpy as np\n",
    "import matplotlib.pyplot as plt\n",
    "from kaggle_datasets import KaggleDatasets\n",
    "import tensorflow as tf, math\n",
    "import tensorflow_addons as tfa\n",
    "import efficientnet.tfkeras as efn\n",
    "import tensorflow.keras.backend as K\n",
    "from sklearn.model_selection import KFold\n",
    "from sklearn.metrics import roc_auc_score\n",
    "import glob\n",
    "from scipy.stats import rankdata\n",
    "\n",
    "import tensorflow_hub as tfhub"
   ]
  },
  {
   "cell_type": "code",
   "execution_count": 5,
   "id": "938ca4e4",
   "metadata": {
    "execution": {
     "iopub.execute_input": "2021-08-18T14:43:18.908477Z",
     "iopub.status.busy": "2021-08-18T14:43:18.907443Z",
     "iopub.status.idle": "2021-08-18T14:43:25.061867Z",
     "shell.execute_reply": "2021-08-18T14:43:25.061266Z",
     "shell.execute_reply.started": "2021-07-27T16:30:37.594707Z"
    },
    "papermill": {
     "duration": 6.222018,
     "end_time": "2021-08-18T14:43:25.062078",
     "exception": false,
     "start_time": "2021-08-18T14:43:18.840060",
     "status": "completed"
    },
    "tags": []
   },
   "outputs": [
    {
     "name": "stdout",
     "output_type": "stream",
     "text": [
      "connecting to TPU...\n",
      "Running on TPU  grpc://10.0.0.2:8470\n",
      "initializing  TPU ...\n",
      "TPU initialized\n",
      "REPLICAS: 8\n"
     ]
    }
   ],
   "source": [
    "DEVICE = 'TPU'\n",
    "\n",
    "if DEVICE == \"TPU\":\n",
    "    print(\"connecting to TPU...\")\n",
    "    try:\n",
    "        tpu = tf.distribute.cluster_resolver.TPUClusterResolver()\n",
    "        print('Running on TPU ', tpu.master())\n",
    "    except ValueError:\n",
    "        print(\"Could not connect to TPU\")\n",
    "        tpu = None\n",
    "\n",
    "    if tpu:\n",
    "        try:\n",
    "            print(\"initializing  TPU ...\")\n",
    "            tf.config.experimental_connect_to_cluster(tpu)\n",
    "            tf.tpu.experimental.initialize_tpu_system(tpu)\n",
    "            strategy = tf.distribute.experimental.TPUStrategy(tpu)\n",
    "            print(\"TPU initialized\")\n",
    "        except _:\n",
    "            print(\"failed to initialize TPU\")\n",
    "    else:\n",
    "        DEVICE = \"GPU\"\n",
    "\n",
    "if DEVICE != \"TPU\":\n",
    "    print(\"Using default strategy for CPU and single GPU\")\n",
    "    strategy = tf.distribute.get_strategy()\n",
    "\n",
    "if DEVICE == \"GPU\":\n",
    "    print(\"Num GPUs Available: \", len(tf.config.experimental.list_physical_devices('GPU')))\n",
    "    \n",
    "\n",
    "AUTO     = tf.data.experimental.AUTOTUNE\n",
    "REPLICAS = strategy.num_replicas_in_sync\n",
    "print(f'REPLICAS: {REPLICAS}')\n",
    "\n",
    "AUTO     = tf.data.experimental.AUTOTUNE\n",
    "REPLICAS = strategy.num_replicas_in_sync\n",
    "#strategy = auto_select_accelerator()\n",
    "BATCH_SIZE = 16\n",
    "batch_size = 16\n",
    "\n",
    "\n",
    "MODEL_GCS_PATH = 'gs://kds-07646ef73491847b90e9814314e77b345c1a6feb386e46b81a3598b9/tfhub_models/efficientnetv2-m-21k-ft1k/feature_vector'\n",
    "#'gs://kds-a4518d8bb2ac917f269f913bed4066c2943089632d96cf03f86b5699/tfhub_models/efficientnetv2-m-21k-ft1k/feature_vector'\n",
    "\n",
    "\n",
    "\n",
    "\n",
    "\n",
    "\n",
    "EFF_NET = 3\n",
    "img_size = (672, 672)\n",
    "weights = 'noisy-student'\n",
    "\n",
    "\n",
    "\n",
    "GCS_PATH = KaggleDatasets().get_gcs_path('testsetitfrecords0')\n",
    "files_all = np.sort(np.array(tf.io.gfile.glob([GCS_PATH + '/test_seti.tfrec'])))"
   ]
  },
  {
   "cell_type": "code",
   "execution_count": 6,
   "id": "ef56b9f5",
   "metadata": {
    "execution": {
     "iopub.execute_input": "2021-08-18T14:43:25.137264Z",
     "iopub.status.busy": "2021-08-18T14:43:25.136567Z",
     "iopub.status.idle": "2021-08-18T14:43:25.189715Z",
     "shell.execute_reply": "2021-08-18T14:43:25.190284Z",
     "shell.execute_reply.started": "2021-07-27T16:35:39.957683Z"
    },
    "papermill": {
     "duration": 0.092943,
     "end_time": "2021-08-18T14:43:25.190462",
     "exception": false,
     "start_time": "2021-08-18T14:43:25.097519",
     "status": "completed"
    },
    "tags": []
   },
   "outputs": [],
   "source": [
    "sub = pd.read_csv('../input/seti-breakthrough-listen/sample_submission.csv')\n",
    "#sub['path'] = sub['id'].apply(lambda x: f'../input/seti-breakthrough-listen/test/{x[0]}/{x}.npy')"
   ]
  },
  {
   "cell_type": "code",
   "execution_count": 7,
   "id": "c08717b2",
   "metadata": {
    "execution": {
     "iopub.execute_input": "2021-08-18T14:43:25.272275Z",
     "iopub.status.busy": "2021-08-18T14:43:25.271052Z",
     "iopub.status.idle": "2021-08-18T14:43:25.597663Z",
     "shell.execute_reply": "2021-08-18T14:43:25.598220Z",
     "shell.execute_reply.started": "2021-07-27T16:36:59.226788Z"
    },
    "papermill": {
     "duration": 0.376448,
     "end_time": "2021-08-18T14:43:25.598393",
     "exception": false,
     "start_time": "2021-08-18T14:43:25.221945",
     "status": "completed"
    },
    "tags": []
   },
   "outputs": [],
   "source": [
    "def prepare_image(img, augment=False, dim=256):    \n",
    "    img = tf.io.decode_raw(img, tf.float16)\n",
    "    img = tf.reshape(img, [273, 256, 3])\n",
    "    img = tf.cast(img, tf.float32)\n",
    "    \n",
    "    img = tf.clip_by_value(img, clip_value_min=-6.0, clip_value_max=6.0)\n",
    "    img = img / 3.0\n",
    "    \n",
    "    #img = tf.image.resize(img, [img_resize[0], img_resize[1]])\n",
    "    \n",
    "    img = tf.unstack(img, axis = 2)\n",
    "    img = tf.concat(img, axis = 0)\n",
    "    img = tf.expand_dims(img, 2)\n",
    "    img = tf.image.grayscale_to_rgb(img)\n",
    "    \n",
    "    img = tf.image.resize(img, [img_size[0], img_size[1]])\n",
    "    \n",
    "    img = tf.image.flip_up_down(img)\n",
    "    img = tf.image.flip_left_right(img)\n",
    "\n",
    "                      \n",
    "    img = tf.reshape(img, [dim[0], dim[1], 3])\n",
    "            \n",
    "    return img\n",
    "\n",
    "def read_labeled_tfrecord(example):\n",
    "    tfrec_format = {\n",
    "        'signal'   : tf.io.FixedLenFeature([], tf.string),\n",
    "        'id'       : tf.io.FixedLenFeature([], tf.string),\n",
    "        'target'   : tf.io.FixedLenFeature([], tf.int64),\n",
    "    }           \n",
    "    example = tf.io.parse_single_example(example, tfrec_format)\n",
    "    return example['signal'], example['target']\n",
    "\n",
    "def get_dataset(files, augment = False, shuffle = False, repeat = False, \n",
    "                labeled=True, return_image_names=True, batch_size=16, dim=256):\n",
    "    \n",
    "    ds = tf.data.TFRecordDataset(files, num_parallel_reads=AUTO)\n",
    "    ds = ds.cache()\n",
    "    ds = ds.map(read_labeled_tfrecord, num_parallel_calls=AUTO)    \n",
    "    #ds = ds.map(lambda example: read_labeled_tfrecord(example, return_image_names), \n",
    "    #                num_parallel_calls=AUTO)    \n",
    "    \n",
    "    ds = ds.map(lambda img, imgname_or_label: (prepare_image(img, augment=False, dim=dim), \n",
    "                                               imgname_or_label), num_parallel_calls=AUTO)\n",
    "    \n",
    "    ds = ds.batch(batch_size * REPLICAS)\n",
    "    ds = ds.prefetch(AUTO)\n",
    "\n",
    "        \n",
    "    return ds\n",
    "\n",
    "dtest = get_dataset(files_all, dim = img_size, batch_size = batch_size)\n",
    "\n",
    "#test_decoder = build_decoder(dim = img_size, flip = False)\n",
    "#test_decoder_flip = build_decoder(flip = True)\n",
    "\n",
    "#dtest = build_dataset(sub['path'], test_decoder)\n",
    "#dtest_flip = build_dataset(sub['path'], test_decoder_flip)\n",
    "\n",
    "#oof_names.append( np.array([img_name.numpy().decode(\"utf-8\") for img, img_name in iter(ds.unbatch())]))"
   ]
  },
  {
   "cell_type": "code",
   "execution_count": 8,
   "id": "6b97be0c",
   "metadata": {
    "execution": {
     "iopub.execute_input": "2021-08-18T14:43:25.668018Z",
     "iopub.status.busy": "2021-08-18T14:43:25.667287Z",
     "iopub.status.idle": "2021-08-18T14:43:25.670643Z",
     "shell.execute_reply": "2021-08-18T14:43:25.671173Z",
     "shell.execute_reply.started": "2021-07-27T16:30:44.423328Z"
    },
    "papermill": {
     "duration": 0.038054,
     "end_time": "2021-08-18T14:43:25.671343",
     "exception": false,
     "start_time": "2021-08-18T14:43:25.633289",
     "status": "completed"
    },
    "tags": []
   },
   "outputs": [],
   "source": [
    "#a =  np.array([img_name.numpy().decode(\"utf-8\") for img, img_name in iter(dtest.unbatch())])"
   ]
  },
  {
   "cell_type": "code",
   "execution_count": 9,
   "id": "e7558c95",
   "metadata": {
    "execution": {
     "iopub.execute_input": "2021-08-18T14:43:25.738079Z",
     "iopub.status.busy": "2021-08-18T14:43:25.737354Z",
     "iopub.status.idle": "2021-08-18T14:43:25.743764Z",
     "shell.execute_reply": "2021-08-18T14:43:25.744370Z",
     "shell.execute_reply.started": "2021-07-27T16:37:03.358869Z"
    },
    "papermill": {
     "duration": 0.042085,
     "end_time": "2021-08-18T14:43:25.744633",
     "exception": false,
     "start_time": "2021-08-18T14:43:25.702548",
     "status": "completed"
    },
    "tags": []
   },
   "outputs": [],
   "source": [
    "EFNS = [efn.EfficientNetB0, efn.EfficientNetB1, efn.EfficientNetB2, efn.EfficientNetB3, \n",
    "        efn.EfficientNetB4, efn.EfficientNetB5, efn.EfficientNetB6]\n",
    "\n",
    "def build_model(dim=128, ef=0):\n",
    "    \n",
    "    \n",
    "    #inp = tf.keras.layers.Input(shape=(dim[0],dim[1],3))\n",
    "    #base = EFNS[ef](input_shape=(dim[0],dim[1],3), weights=weights,include_top=False)\n",
    "    #x = base(inp)\n",
    "    #x = tf.keras.layers.GlobalAveragePooling2D()(x)\n",
    "    #x = tf.keras.layers.Dropout(0.25)(x)\n",
    "    #x = tf.keras.layers.Dense(1,activation='sigmoid')(x)\n",
    "    #model = tf.keras.Model(inputs=inp,outputs=x)\n",
    "\n",
    "\n",
    "    model = tf.keras.Sequential([\n",
    "            tf.keras.layers.InputLayer(input_shape=[dim[0],dim[1],3]),\n",
    "            tfhub.KerasLayer(MODEL_GCS_PATH , trainable=True),\n",
    "            tf.keras.layers.Dropout(rate=0.25),\n",
    "            tf.keras.layers.Dense(1,activation='sigmoid')\n",
    "        ])\n",
    "    \n",
    "    \n",
    "    #opt = tf.keras.optimizers.Adam(learning_rate=0.001)\n",
    "    #loss = tf.keras.losses.BinaryCrossentropy() #label_smoothing=0.05\n",
    "    #model.compile(optimizer=opt,loss=loss,metrics=['AUC'])\n",
    "    return model"
   ]
  },
  {
   "cell_type": "code",
   "execution_count": 10,
   "id": "3c54ae48",
   "metadata": {
    "execution": {
     "iopub.execute_input": "2021-08-18T14:43:25.811106Z",
     "iopub.status.busy": "2021-08-18T14:43:25.810366Z",
     "iopub.status.idle": "2021-08-18T14:55:32.468866Z",
     "shell.execute_reply": "2021-08-18T14:55:32.468074Z",
     "shell.execute_reply.started": "2021-07-27T16:50:05.649537Z"
    },
    "papermill": {
     "duration": 726.692431,
     "end_time": "2021-08-18T14:55:32.469058",
     "exception": false,
     "start_time": "2021-08-18T14:43:25.776627",
     "status": "completed"
    },
    "tags": []
   },
   "outputs": [
    {
     "name": "stdout",
     "output_type": "stream",
     "text": [
      "313/313 [==============================] - 135s 360ms/step\n",
      "313/313 [==============================] - 83s 201ms/step\n",
      "313/313 [==============================] - 84s 202ms/step\n",
      "313/313 [==============================] - 83s 203ms/step\n",
      "313/313 [==============================] - 83s 202ms/step\n"
     ]
    }
   ],
   "source": [
    "with strategy.scope():\n",
    "    \n",
    "    m0 = build_model(dim=img_size ,ef=EFF_NET)\n",
    "    m1 = build_model(dim=img_size ,ef=EFF_NET)\n",
    "    m2 = build_model(dim=img_size ,ef=EFF_NET)\n",
    "    m3 = build_model(dim=img_size ,ef=EFF_NET)\n",
    "    m4 = build_model(dim=img_size ,ef=EFF_NET)\n",
    "    \n",
    "    m0.load_weights('fold-0.h5')\n",
    "    m1.load_weights('fold-1.h5')\n",
    "    m2.load_weights('fold-2.h5')\n",
    "    m3.load_weights('fold-3.h5')\n",
    "    m4.load_weights('fold-4.h5')\n",
    "    \n",
    "    y0 = m0.predict(dtest,verbose=1)\n",
    "    y1 = m1.predict(dtest,verbose=1)\n",
    "    y2 = m2.predict(dtest,verbose=1)\n",
    "    y3 = m3.predict(dtest,verbose=1)\n",
    "    y4 = m4.predict(dtest,verbose=1)"
   ]
  },
  {
   "cell_type": "code",
   "execution_count": 11,
   "id": "16b5cd7b",
   "metadata": {
    "execution": {
     "iopub.execute_input": "2021-08-18T14:55:33.494500Z",
     "iopub.status.busy": "2021-08-18T14:55:33.493548Z",
     "iopub.status.idle": "2021-08-18T14:55:33.498279Z",
     "shell.execute_reply": "2021-08-18T14:55:33.497612Z"
    },
    "papermill": {
     "duration": 0.517893,
     "end_time": "2021-08-18T14:55:33.498425",
     "exception": false,
     "start_time": "2021-08-18T14:55:32.980532",
     "status": "completed"
    },
    "tags": []
   },
   "outputs": [],
   "source": [
    "raw = y0  + y1 + y2 + y3 + y4\n",
    "raw = raw / 5.0\n",
    "np.save('raw.npy', raw)"
   ]
  },
  {
   "cell_type": "code",
   "execution_count": 12,
   "id": "eb155211",
   "metadata": {
    "execution": {
     "iopub.execute_input": "2021-08-18T14:55:34.609880Z",
     "iopub.status.busy": "2021-08-18T14:55:34.608715Z",
     "iopub.status.idle": "2021-08-18T14:55:34.641857Z",
     "shell.execute_reply": "2021-08-18T14:55:34.641217Z",
     "shell.execute_reply.started": "2021-07-27T17:01:50.332063Z"
    },
    "papermill": {
     "duration": 0.572406,
     "end_time": "2021-08-18T14:55:34.642016",
     "exception": false,
     "start_time": "2021-08-18T14:55:34.069610",
     "status": "completed"
    },
    "tags": []
   },
   "outputs": [],
   "source": [
    "y0 = rankdata(y0, axis= 0)\n",
    "y1 = rankdata(y1, axis= 0)\n",
    "y2 = rankdata(y2, axis= 0)\n",
    "y3 = rankdata(y3, axis= 0)\n",
    "y4 = rankdata(y4, axis= 0)"
   ]
  },
  {
   "cell_type": "code",
   "execution_count": 13,
   "id": "93ec346d",
   "metadata": {
    "execution": {
     "iopub.execute_input": "2021-08-18T14:55:35.696132Z",
     "iopub.status.busy": "2021-08-18T14:55:35.695325Z",
     "iopub.status.idle": "2021-08-18T14:55:35.698820Z",
     "shell.execute_reply": "2021-08-18T14:55:35.698187Z",
     "shell.execute_reply.started": "2021-07-27T17:02:24.968127Z"
    },
    "papermill": {
     "duration": 0.531298,
     "end_time": "2021-08-18T14:55:35.698957",
     "exception": false,
     "start_time": "2021-08-18T14:55:35.167659",
     "status": "completed"
    },
    "tags": []
   },
   "outputs": [],
   "source": [
    "preds = y0  + y1 + y2 + y3 + y4"
   ]
  },
  {
   "cell_type": "code",
   "execution_count": 14,
   "id": "31b88bb6",
   "metadata": {
    "execution": {
     "iopub.execute_input": "2021-08-18T14:55:36.732887Z",
     "iopub.status.busy": "2021-08-18T14:55:36.732233Z",
     "iopub.status.idle": "2021-08-18T14:55:36.735261Z",
     "shell.execute_reply": "2021-08-18T14:55:36.734744Z",
     "shell.execute_reply.started": "2021-07-27T17:02:36.472378Z"
    },
    "papermill": {
     "duration": 0.521571,
     "end_time": "2021-08-18T14:55:36.735403",
     "exception": false,
     "start_time": "2021-08-18T14:55:36.213832",
     "status": "completed"
    },
    "tags": []
   },
   "outputs": [],
   "source": [
    "preds = preds / (preds.shape[0] * 1.0)"
   ]
  },
  {
   "cell_type": "code",
   "execution_count": 15,
   "id": "2e28e1a1",
   "metadata": {
    "execution": {
     "iopub.execute_input": "2021-08-18T14:55:37.768512Z",
     "iopub.status.busy": "2021-08-18T14:55:37.767834Z",
     "iopub.status.idle": "2021-08-18T14:55:37.771661Z",
     "shell.execute_reply": "2021-08-18T14:55:37.772259Z",
     "shell.execute_reply.started": "2021-07-27T17:02:42.017747Z"
    },
    "papermill": {
     "duration": 0.521664,
     "end_time": "2021-08-18T14:55:37.772450",
     "exception": false,
     "start_time": "2021-08-18T14:55:37.250786",
     "status": "completed"
    },
    "tags": []
   },
   "outputs": [
    {
     "data": {
      "text/plain": [
       "(39995, 1)"
      ]
     },
     "execution_count": 15,
     "metadata": {},
     "output_type": "execute_result"
    }
   ],
   "source": [
    "preds.shape"
   ]
  },
  {
   "cell_type": "code",
   "execution_count": 16,
   "id": "5eb664a5",
   "metadata": {
    "execution": {
     "iopub.execute_input": "2021-08-18T14:55:38.806865Z",
     "iopub.status.busy": "2021-08-18T14:55:38.806208Z",
     "iopub.status.idle": "2021-08-18T14:55:38.810006Z",
     "shell.execute_reply": "2021-08-18T14:55:38.809422Z",
     "shell.execute_reply.started": "2021-07-27T17:03:15.57926Z"
    },
    "papermill": {
     "duration": 0.521768,
     "end_time": "2021-08-18T14:55:38.810145",
     "exception": false,
     "start_time": "2021-08-18T14:55:38.288377",
     "status": "completed"
    },
    "tags": []
   },
   "outputs": [],
   "source": [
    "sub['target'] = preds"
   ]
  },
  {
   "cell_type": "code",
   "execution_count": 17,
   "id": "9004cf04",
   "metadata": {
    "execution": {
     "iopub.execute_input": "2021-08-18T14:55:39.849640Z",
     "iopub.status.busy": "2021-08-18T14:55:39.848941Z",
     "iopub.status.idle": "2021-08-18T14:55:40.020722Z",
     "shell.execute_reply": "2021-08-18T14:55:40.020066Z",
     "shell.execute_reply.started": "2021-07-27T17:03:38.002742Z"
    },
    "papermill": {
     "duration": 0.694795,
     "end_time": "2021-08-18T14:55:40.020861",
     "exception": false,
     "start_time": "2021-08-18T14:55:39.326066",
     "status": "completed"
    },
    "tags": []
   },
   "outputs": [],
   "source": [
    "sub.to_csv('submission.csv', index = False)"
   ]
  },
  {
   "cell_type": "code",
   "execution_count": null,
   "id": "e31366ee",
   "metadata": {
    "papermill": {
     "duration": 0.534668,
     "end_time": "2021-08-18T14:55:41.079043",
     "exception": false,
     "start_time": "2021-08-18T14:55:40.544375",
     "status": "completed"
    },
    "tags": []
   },
   "outputs": [],
   "source": []
  }
 ],
 "metadata": {
  "kernelspec": {
   "display_name": "Python 3",
   "language": "python",
   "name": "python3"
  },
  "language_info": {
   "codemirror_mode": {
    "name": "ipython",
    "version": 3
   },
   "file_extension": ".py",
   "mimetype": "text/x-python",
   "name": "python",
   "nbconvert_exporter": "python",
   "pygments_lexer": "ipython3",
   "version": "3.7.10"
  },
  "papermill": {
   "default_parameters": {},
   "duration": 804.851075,
   "end_time": "2021-08-18T14:55:44.396188",
   "environment_variables": {},
   "exception": null,
   "input_path": "__notebook__.ipynb",
   "output_path": "__notebook__.ipynb",
   "parameters": {},
   "start_time": "2021-08-18T14:42:19.545113",
   "version": "2.3.3"
  }
 },
 "nbformat": 4,
 "nbformat_minor": 5
}
